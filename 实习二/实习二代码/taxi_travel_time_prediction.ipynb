{
 "cells": [
  {
   "cell_type": "markdown",
   "id": "a1cf46fb",
   "metadata": {},
   "source": [
    "# 纽约市出租车行程预测\n",
    "## 一、数据处理\n",
    "### 1.1 数据来源\n",
    "除了给定的出租车数据，在网上还找到了一下数据集：\n",
    "- [出租车行程数据集](https://www.kaggle.com/datasets/yasserh/nyc-taxi-trip-duration)\n",
    "- [2016年纽约市天气数据](https://www.kaggle.com/datasets/cabaki/knycmetars2016?resource=download)\n",
    "- [2016年纽约市节假日数据](https://www.kaggle.com/datasets/pceccon/nyc2016holidays)\n",
    "- [2016年纽约市1KM分辨率人口](https://hub.worldpop.org/geodata/summary?id=80022)\n",
    "\n"
   ]
  },
  {
   "cell_type": "code",
   "execution_count": 75,
   "id": "6ac804bc",
   "metadata": {},
   "outputs": [],
   "source": [
    "# taxi_travel_time_prediction.ipynb\n",
    "import pandas as pd\n",
    "import numpy as np\n",
    "from datetime import datetime, date\n",
    "\n",
    "import seaborn as sns\n",
    "import matplotlib.pyplot as plt\n",
    "%matplotlib inline\n",
    "\n",
    "import xgboost as xgb\n",
    "from lightgbm import LGBMRegressor\n",
    "from sklearn.model_selection import train_test_split\n",
    "from sklearn.decomposition import PCA\n",
    "from sklearn.cluster import MiniBatchKMeans, KMeans\n",
    "import optuna\n",
    "import optuna.integration.lightgbm as oplgb\n",
    "\n",
    "import warnings\n",
    "warnings.filterwarnings('ignore')"
   ]
  },
  {
   "cell_type": "markdown",
   "id": "9afd791c",
   "metadata": {},
   "source": [
    "### 1.2读取数据集"
   ]
  },
  {
   "cell_type": "code",
   "execution_count": 76,
   "id": "143cf2f2",
   "metadata": {},
   "outputs": [
    {
     "name": "stdout",
     "output_type": "stream",
     "text": [
      "(1458644, 11) (625134, 9)\n",
      "训练集和测试集的前1行数据：\n",
      "          id  vendor_id     pickup_datetime    dropoff_datetime  \\\n",
      "0  id2875421          2 2016-03-14 17:24:55 2016-03-14 17:32:30   \n",
      "\n",
      "   passenger_count  pickup_longitude  pickup_latitude  dropoff_longitude  \\\n",
      "0                1            -73.98            40.77             -73.96   \n",
      "\n",
      "   dropoff_latitude store_and_fwd_flag  trip_duration  \n",
      "0             40.77                  N            455  \n",
      "          id  vendor_id     pickup_datetime  passenger_count  \\\n",
      "0  id3004672          1 2016-06-30 23:59:58                1   \n",
      "\n",
      "   pickup_longitude  pickup_latitude  dropoff_longitude  dropoff_latitude  \\\n",
      "0            -73.99            40.73             -73.99             40.76   \n",
      "\n",
      "  store_and_fwd_flag  \n",
      "0                  N  \n"
     ]
    },
    {
     "ename": "ValueError",
     "evalue": "time data 'January 01 2016' does not match format '%B %d %Y'",
     "output_type": "error",
     "traceback": [
      "\u001b[31m---------------------------------------------------------------------------\u001b[39m",
      "\u001b[31mValueError\u001b[39m                                Traceback (most recent call last)",
      "\u001b[36mCell\u001b[39m\u001b[36m \u001b[39m\u001b[32mIn[76]\u001b[39m\u001b[32m, line 17\u001b[39m\n\u001b[32m     15\u001b[39m \u001b[38;5;66;03m# 将假期数据转换为与数据集一致的datetime格式\u001b[39;00m\n\u001b[32m     16\u001b[39m holiday[\u001b[33m'\u001b[39m\u001b[33mDate\u001b[39m\u001b[33m'\u001b[39m] = holiday[\u001b[33m'\u001b[39m\u001b[33mDate\u001b[39m\u001b[33m'\u001b[39m].apply(\u001b[38;5;28;01mlambda\u001b[39;00m x: x + \u001b[33m'\u001b[39m\u001b[33m 2016\u001b[39m\u001b[33m'\u001b[39m)\n\u001b[32m---> \u001b[39m\u001b[32m17\u001b[39m holidays = \u001b[43m[\u001b[49m\u001b[43mdatetime\u001b[49m\u001b[43m.\u001b[49m\u001b[43mstrptime\u001b[49m\u001b[43m(\u001b[49m\u001b[43mholiday\u001b[49m\u001b[43m.\u001b[49m\u001b[43mloc\u001b[49m\u001b[43m[\u001b[49m\u001b[43mi\u001b[49m\u001b[43m,\u001b[49m\u001b[43m \u001b[49m\u001b[33;43m'\u001b[39;49m\u001b[33;43mDate\u001b[39;49m\u001b[33;43m'\u001b[39;49m\u001b[43m]\u001b[49m\u001b[43m,\u001b[49m\u001b[43m \u001b[49m\u001b[33;43m'\u001b[39;49m\u001b[33;43m%\u001b[39;49m\u001b[33;43mB \u001b[39;49m\u001b[38;5;132;43;01m%d\u001b[39;49;00m\u001b[33;43m \u001b[39;49m\u001b[33;43m%\u001b[39;49m\u001b[33;43mY\u001b[39;49m\u001b[33;43m'\u001b[39;49m\u001b[43m)\u001b[49m\u001b[43m.\u001b[49m\u001b[43mdate\u001b[49m\u001b[43m(\u001b[49m\u001b[43m)\u001b[49m\u001b[43m \u001b[49m\u001b[38;5;28;43;01mfor\u001b[39;49;00m\u001b[43m \u001b[49m\u001b[43mi\u001b[49m\u001b[43m \u001b[49m\u001b[38;5;129;43;01min\u001b[39;49;00m\u001b[43m \u001b[49m\u001b[38;5;28;43mrange\u001b[39;49m\u001b[43m(\u001b[49m\u001b[38;5;28;43mlen\u001b[39;49m\u001b[43m(\u001b[49m\u001b[43mholiday\u001b[49m\u001b[43m)\u001b[49m\u001b[43m)\u001b[49m\u001b[43m]\u001b[49m\n\u001b[32m     18\u001b[39m holidays[:\u001b[32m3\u001b[39m]\n\u001b[32m     20\u001b[39m \u001b[38;5;66;03m# 3.读取天气数据\u001b[39;00m\n\u001b[32m     21\u001b[39m \u001b[38;5;66;03m# 读取天气数据\u001b[39;00m\n",
      "\u001b[36mCell\u001b[39m\u001b[36m \u001b[39m\u001b[32mIn[76]\u001b[39m\u001b[32m, line 17\u001b[39m, in \u001b[36m<listcomp>\u001b[39m\u001b[34m(.0)\u001b[39m\n\u001b[32m     15\u001b[39m \u001b[38;5;66;03m# 将假期数据转换为与数据集一致的datetime格式\u001b[39;00m\n\u001b[32m     16\u001b[39m holiday[\u001b[33m'\u001b[39m\u001b[33mDate\u001b[39m\u001b[33m'\u001b[39m] = holiday[\u001b[33m'\u001b[39m\u001b[33mDate\u001b[39m\u001b[33m'\u001b[39m].apply(\u001b[38;5;28;01mlambda\u001b[39;00m x: x + \u001b[33m'\u001b[39m\u001b[33m 2016\u001b[39m\u001b[33m'\u001b[39m)\n\u001b[32m---> \u001b[39m\u001b[32m17\u001b[39m holidays = [\u001b[43mdatetime\u001b[49m\u001b[43m.\u001b[49m\u001b[43mstrptime\u001b[49m\u001b[43m(\u001b[49m\u001b[43mholiday\u001b[49m\u001b[43m.\u001b[49m\u001b[43mloc\u001b[49m\u001b[43m[\u001b[49m\u001b[43mi\u001b[49m\u001b[43m,\u001b[49m\u001b[43m \u001b[49m\u001b[33;43m'\u001b[39;49m\u001b[33;43mDate\u001b[39;49m\u001b[33;43m'\u001b[39;49m\u001b[43m]\u001b[49m\u001b[43m,\u001b[49m\u001b[43m \u001b[49m\u001b[33;43m'\u001b[39;49m\u001b[33;43m%\u001b[39;49m\u001b[33;43mB \u001b[39;49m\u001b[38;5;132;43;01m%d\u001b[39;49;00m\u001b[33;43m \u001b[39;49m\u001b[33;43m%\u001b[39;49m\u001b[33;43mY\u001b[39;49m\u001b[33;43m'\u001b[39;49m\u001b[43m)\u001b[49m.date() \u001b[38;5;28;01mfor\u001b[39;00m i \u001b[38;5;129;01min\u001b[39;00m \u001b[38;5;28mrange\u001b[39m(\u001b[38;5;28mlen\u001b[39m(holiday))]\n\u001b[32m     18\u001b[39m holidays[:\u001b[32m3\u001b[39m]\n\u001b[32m     20\u001b[39m \u001b[38;5;66;03m# 3.读取天气数据\u001b[39;00m\n\u001b[32m     21\u001b[39m \u001b[38;5;66;03m# 读取天气数据\u001b[39;00m\n",
      "\u001b[36mFile \u001b[39m\u001b[32m~\\AppData\\Roaming\\uv\\python\\cpython-3.11.13-windows-x86_64-none\\Lib\\_strptime.py:567\u001b[39m, in \u001b[36m_strptime_datetime\u001b[39m\u001b[34m(cls, data_string, format)\u001b[39m\n\u001b[32m    564\u001b[39m \u001b[38;5;28;01mdef\u001b[39;00m\u001b[38;5;250m \u001b[39m\u001b[34m_strptime_datetime\u001b[39m(\u001b[38;5;28mcls\u001b[39m, data_string, \u001b[38;5;28mformat\u001b[39m=\u001b[33m\"\u001b[39m\u001b[38;5;132;01m%a\u001b[39;00m\u001b[33m \u001b[39m\u001b[33m%\u001b[39m\u001b[33mb \u001b[39m\u001b[38;5;132;01m%d\u001b[39;00m\u001b[33m \u001b[39m\u001b[33m%\u001b[39m\u001b[33mH:\u001b[39m\u001b[33m%\u001b[39m\u001b[33mM:\u001b[39m\u001b[33m%\u001b[39m\u001b[33mS \u001b[39m\u001b[33m%\u001b[39m\u001b[33mY\u001b[39m\u001b[33m\"\u001b[39m):\n\u001b[32m    565\u001b[39m \u001b[38;5;250m    \u001b[39m\u001b[33;03m\"\"\"Return a class cls instance based on the input string and the\u001b[39;00m\n\u001b[32m    566\u001b[39m \u001b[33;03m    format string.\"\"\"\u001b[39;00m\n\u001b[32m--> \u001b[39m\u001b[32m567\u001b[39m     tt, fraction, gmtoff_fraction = \u001b[43m_strptime\u001b[49m\u001b[43m(\u001b[49m\u001b[43mdata_string\u001b[49m\u001b[43m,\u001b[49m\u001b[43m \u001b[49m\u001b[38;5;28;43mformat\u001b[39;49m\u001b[43m)\u001b[49m\n\u001b[32m    568\u001b[39m     tzname, gmtoff = tt[-\u001b[32m2\u001b[39m:]\n\u001b[32m    569\u001b[39m     args = tt[:\u001b[32m6\u001b[39m] + (fraction,)\n",
      "\u001b[36mFile \u001b[39m\u001b[32m~\\AppData\\Roaming\\uv\\python\\cpython-3.11.13-windows-x86_64-none\\Lib\\_strptime.py:349\u001b[39m, in \u001b[36m_strptime\u001b[39m\u001b[34m(data_string, format)\u001b[39m\n\u001b[32m    347\u001b[39m found = format_regex.match(data_string)\n\u001b[32m    348\u001b[39m \u001b[38;5;28;01mif\u001b[39;00m \u001b[38;5;129;01mnot\u001b[39;00m found:\n\u001b[32m--> \u001b[39m\u001b[32m349\u001b[39m     \u001b[38;5;28;01mraise\u001b[39;00m \u001b[38;5;167;01mValueError\u001b[39;00m(\u001b[33m\"\u001b[39m\u001b[33mtime data \u001b[39m\u001b[38;5;132;01m%r\u001b[39;00m\u001b[33m does not match format \u001b[39m\u001b[38;5;132;01m%r\u001b[39;00m\u001b[33m\"\u001b[39m %\n\u001b[32m    350\u001b[39m                      (data_string, \u001b[38;5;28mformat\u001b[39m))\n\u001b[32m    351\u001b[39m \u001b[38;5;28;01mif\u001b[39;00m \u001b[38;5;28mlen\u001b[39m(data_string) != found.end():\n\u001b[32m    352\u001b[39m     \u001b[38;5;28;01mraise\u001b[39;00m \u001b[38;5;167;01mValueError\u001b[39;00m(\u001b[33m\"\u001b[39m\u001b[33munconverted data remains: \u001b[39m\u001b[38;5;132;01m%s\u001b[39;00m\u001b[33m\"\u001b[39m %\n\u001b[32m    353\u001b[39m                       data_string[found.end():])\n",
      "\u001b[31mValueError\u001b[39m: time data 'January 01 2016' does not match format '%B %d %Y'"
     ]
    }
   ],
   "source": [
    "# 1.读取训练和预测集\n",
    "# 参数parse_dates可以解析日期格式\n",
    "train_df = pd.read_csv('../实习二数据/train.csv', parse_dates=['pickup_datetime', 'dropoff_datetime'])\n",
    "test_df = pd.read_csv('../实习二数据/test.csv', parse_dates=['pickup_datetime'])\n",
    "dfs = [train_df, test_df]\n",
    "\n",
    "# 显示数据集的前1行\n",
    "print(dfs[0].shape, dfs[1].shape)\n",
    "print(\"训练集和测试集的前1行数据：\")\n",
    "print(dfs[0].head(1))\n",
    "print(dfs[1].head(1))\n",
    "\n",
    "# 2.读取节假日数据\n",
    "holiday = pd.read_csv('../实习二数据/NYC_2016Holidays.csv', sep=';', parse_dates=['Date'])\n",
    "# 将假期数据转换为与数据集一致的datetime格式\n",
    "holiday['Date'] = holiday['Date'].apply(lambda x: x + ' 2016')\n",
    "holidays = [datetime.strptime(holiday.loc[i, 'Date'], '%B %d %Y').date() for i in range(len(holiday))]\n",
    "holidays[:3]\n",
    "\n",
    "# 3.读取天气数据\n",
    "# 读取天气数据\n",
    "weather = pd.read_csv('../实习二数据/KNYC_Metars.csv', parse_dates=['Time'])\n",
    "print(\"天气数据集前一行：\")\n",
    "print(weather.head(1))"
   ]
  },
  {
   "cell_type": "markdown",
   "id": "2d7a146e",
   "metadata": {},
   "source": [
    "## 二、数据清洗"
   ]
  },
  {
   "cell_type": "code",
   "execution_count": null,
   "id": "f9d28e8b",
   "metadata": {},
   "outputs": [
    {
     "name": "stdout",
     "output_type": "stream",
     "text": [
      "缺失值检查：\n",
      "<class 'pandas.core.frame.DataFrame'>\n",
      "RangeIndex: 1458644 entries, 0 to 1458643\n",
      "Data columns (total 11 columns):\n",
      " #   Column              Non-Null Count    Dtype         \n",
      "---  ------              --------------    -----         \n",
      " 0   id                  1458644 non-null  object        \n",
      " 1   vendor_id           1458644 non-null  int64         \n",
      " 2   pickup_datetime     1458644 non-null  datetime64[ns]\n",
      " 3   dropoff_datetime    1458644 non-null  datetime64[ns]\n",
      " 4   passenger_count     1458644 non-null  int64         \n",
      " 5   pickup_longitude    1458644 non-null  float64       \n",
      " 6   pickup_latitude     1458644 non-null  float64       \n",
      " 7   dropoff_longitude   1458644 non-null  float64       \n",
      " 8   dropoff_latitude    1458644 non-null  float64       \n",
      " 9   store_and_fwd_flag  1458644 non-null  object        \n",
      " 10  trip_duration       1458644 non-null  int64         \n",
      "dtypes: datetime64[ns](2), float64(4), int64(3), object(2)\n",
      "memory usage: 122.4+ MB\n",
      "描述性统计：\n",
      "       vendor_id                pickup_datetime  \\\n",
      "count 1458644.00                        1458644   \n",
      "mean        1.53  2016-04-01 10:10:24.940037120   \n",
      "min         1.00            2016-01-01 00:00:17   \n",
      "25%         1.00  2016-02-17 16:46:04.249999872   \n",
      "50%         2.00            2016-04-01 17:19:40   \n",
      "75%         2.00  2016-05-15 03:56:08.750000128   \n",
      "max         2.00            2016-06-30 23:59:39   \n",
      "std         0.50                            NaN   \n",
      "\n",
      "                    dropoff_datetime  passenger_count  pickup_longitude  \\\n",
      "count                        1458644       1458644.00        1458644.00   \n",
      "mean   2016-04-01 10:26:24.432310528             1.66            -73.97   \n",
      "min              2016-01-01 00:03:31             0.00           -121.93   \n",
      "25%       2016-02-17 17:05:32.500000             1.00            -73.99   \n",
      "50%              2016-04-01 17:35:12             1.00            -73.98   \n",
      "75%    2016-05-15 04:10:51.750000128             2.00            -73.97   \n",
      "max              2016-07-01 23:02:03             9.00            -61.34   \n",
      "std                              NaN             1.31              0.07   \n",
      "\n",
      "       pickup_latitude  dropoff_longitude  dropoff_latitude  trip_duration  \n",
      "count       1458644.00         1458644.00        1458644.00     1458644.00  \n",
      "mean             40.75             -73.97             40.75         959.49  \n",
      "min              34.36            -121.93             32.18           1.00  \n",
      "25%              40.74             -73.99             40.74         397.00  \n",
      "50%              40.75             -73.98             40.75         662.00  \n",
      "75%              40.77             -73.96             40.77        1075.00  \n",
      "max              51.88             -61.34             43.92     3526282.00  \n",
      "std               0.03               0.07              0.04        5237.43  \n",
      "训练集和测试集的passenger_count各种取值数量：\n",
      "passenger_count\n",
      "1    1033540\n",
      "2     210318\n",
      "5      78088\n",
      "3      59896\n",
      "6      48333\n",
      "4      28404\n",
      "0         60\n",
      "7          3\n",
      "9          1\n",
      "8          1\n",
      "Name: count, dtype: int64\n",
      "passenger_count\n",
      "1    443447\n",
      "2     90027\n",
      "5     33411\n",
      "3     25686\n",
      "6     20521\n",
      "4     12017\n",
      "0        23\n",
      "9         2\n",
      "Name: count, dtype: int64\n",
      "959.4922729603659 5237.429929188889\n"
     ]
    },
    {
     "data": {
      "text/plain": [
       "<Axes: ylabel='trip_duration'>"
      ]
     },
     "execution_count": 64,
     "metadata": {},
     "output_type": "execute_result"
    },
    {
     "data": {
      "image/png": "[encoded data removed]",
      "text/plain": [
       "<Figure size 640x480 with 1 Axes>"
      ]
     },
     "metadata": {},
     "output_type": "display_data"
    }
   ],
   "source": [
    "# 1.检查缺失值\n",
    "print(\"缺失值检查：\")\n",
    "dfs[0].info() # 根据输出未发现缺失值\n",
    "\n",
    "# 2.异常值\n",
    "# 2.1 描述型统计\n",
    "pd.set_option('display.float_format', lambda x: '%.2f' % x)\n",
    "print(\"描述性统计：\")\n",
    "print(dfs[0].describe())# 查看描述性统计，发现有不合理的值\n",
    "\n",
    "# 2.2 passenger_count异常值处理\n",
    "print(\"训练集和测试集的passenger_count各种取值数量：\")\n",
    "print(dfs[0].passenger_count.value_counts())\n",
    "print(dfs[1].passenger_count.value_counts())\n",
    "for i in range(len(dfs)):\n",
    "    # TODO: 不如直接删除，以及更优秀的异常值发现方法\n",
    "    dfs[i]['passenger_count'].replace({\n",
    "            0:1,7:6,8:6,9:6},inplace=True) # 采用最邻近替换掉异常值0，7，8，9\n",
    "\n",
    "# 2.3 trip_duration异常值处理\n",
    "# 查看trip_duration的均值、标准差\n",
    "time_mean = np.mean(dfs[0].trip_duration)\n",
    "time_std = np.std(dfs[0].trip_duration)\n",
    "print(time_mean, time_std)\n",
    "# 删除异常值\n",
    "dfs[0] = dfs[0][(dfs[0]['trip_duration']<=(time_mean + 3 * time_std)) & (dfs[0]['trip_duration']>=(time_mean - 3 * time_std))]\n",
    "# 用正态删除了最大的异常值，但没有删除最小的异常值\n",
    "# TODO: 最小异常值这样处理还是太简单了\n",
    "dfs[0] = dfs[0][dfs[0]['trip_duration']!=1]\n",
    "sns.boxplot(dfs[0]['trip_duration'])# 查看去除异常值后的trip_duration分布"
   ]
  },
  {
   "cell_type": "markdown",
   "id": "7fff183f",
   "metadata": {},
   "source": [
    "## 三、特征工程与EDA\n",
    "### 3.1 时间特征\n",
    "\n",
    "- 由上面的分析可以发现，trip_duration的标准差为5237.43，说明行程时间数据差异大，为减小数据差异带来的干扰，将数据log化：log_trip_duration\n",
    "- 提取时间特征\n",
    "- 是否是工作日、节假日\n",
    "- 将时段分为早晚高峰、白天、夜晚"
   ]
  },
  {
   "cell_type": "code",
   "execution_count": null,
   "id": "7ae9017e",
   "metadata": {},
   "outputs": [
    {
     "name": "stdout",
     "output_type": "stream",
     "text": [
      "log_trip_duration分布：\n"
     ]
    },
    {
     "data": {
      "image/png": "[encoded data removed]",
      "text/plain": [
       "<Figure size 640x480 with 1 Axes>"
      ]
     },
     "metadata": {},
     "output_type": "display_data"
    }
   ],
   "source": [
    "# 3.1 log_trip_duration取对数\n",
    "dfs[0]['log_trip_duration'] = np.log(dfs[0]['trip_duration'].values + 1)\n",
    "print(\"log_trip_duration分布：\")\n",
    "plt.hist(dfs[0]['log_trip_duration'].values, bins=100)\n",
    "plt.show()\n",
    "\n",
    "# 3.2 提取时间特征\n",
    "# 提取年、月、日、小时、分钟、星期、日期\n",
    "for i, d in enumerate(dfs):\n",
    "    dfs[i]['year'] = d.pickup_datetime.dt.year\n",
    "    dfs[i]['month'] = d.pickup_datetime.dt.month\n",
    "    dfs[i]['day'] = d.pickup_datetime.dt.day\n",
    "    dfs[i]['hour'] = d.pickup_datetime.dt.hour\n",
    "    dfs[i]['minute'] = d.pickup_datetime.dt.minute\n",
    "    dfs[i]['dayofweek'] = d.pickup_datetime.dt.dayofweek\n",
    "    dfs[i]['date'] = d.pickup_datetime.dt.date\n",
    "    dfs[i]['time'] = d.hour + d.minute/60\n",
    "\n",
    "# 判断是否工作日、是否节假日\n",
    "for i, d in enumerate(dfs):\n",
    "    dfs[i]['is_weekend'] = d['dayofweek'].apply(lambda x: 1 if x==5 or x==6 else 0)\n",
    "    dfs[i]['is_rest'] = d['date'].apply(lambda x: 1 if x in holidays else 0)\n",
    "\n",
    "# 24小时切分为不同时段：早高峰、晚高峰、白天、夜晚\n",
    "def get_time_interval(series):\n",
    "    hour = series['hour']\n",
    "    is_rest = series['is_rest']\n",
    "    \n",
    "    if is_rest==1:\n",
    "        if hour>=7 and hour<=21:\n",
    "            time_interval='day'\n",
    "        elif hour>21 or hour<7:\n",
    "            time_interval='night'\n",
    "    elif is_rest==0:\n",
    "        if hour>=7 and hour<=9: \n",
    "            time_interval='morning_peak'\n",
    "        elif hour>=17 and hour<=21:\n",
    "            time_interval='evening_peak'\n",
    "        elif hour>9 and hour<17:\n",
    "            time_interval='day'\n",
    "        elif hour>21 or hour<7:\n",
    "            time_interval='night'\n",
    "    return time_interval\n",
    "\n",
    "for i, d in enumerate(dfs):\n",
    "    dfs[i]['time_interval'] = d.apply(get_time_interval, axis=1)\n",
    "\n"
   ]
  },
  {
   "cell_type": "markdown",
   "id": "b52bb9bd",
   "metadata": {},
   "source": [
    "### 3.2 天气特征  "
   ]
  },
  {
   "cell_type": "code",
   "execution_count": null,
   "id": "3c295292",
   "metadata": {},
   "outputs": [
    {
     "name": "stdout",
     "output_type": "stream",
     "text": [
      "各类天气数量：\n",
      "Events\n",
      "Rain              377\n",
      "Snow               51\n",
      "Fog\\n\\t,\\nSnow     23\n",
      "Fog                 2\n",
      "Fog\\n\\t,\\nRain      2\n",
      "Name: count, dtype: int64\n"
     ]
    }
   ],
   "source": [
    "# 3.3 天气特征\n",
    "print(\"各类天气数量：\")\n",
    "print(weather.Events.value_counts())\n",
    "# 将天气加上时间标签：\n",
    "# 提取天气特征的年月日等时间特征，并筛选年份天气等特征。\n",
    "weather['year'] = weather.Time.dt.year\n",
    "weather['month'] = weather.Time.dt.month\n",
    "weather['day'] = weather.Time.dt.day\n",
    "weather['hour'] = weather.Time.dt.hour\n",
    "weather['events_weather'] = weather['Events'].apply(lambda x: 0 if x=='None' else 1)\n",
    "weather = weather[weather['year']==2016][['Temp.', 'Visibility', 'events_weather', 'month', 'day','hour', 'Precip']]\n",
    "# 与上车时间合并\n",
    "for i, d in enumerate(dfs):\n",
    "    dfs[i] = pd.merge(d, weather, on=['month', 'day', 'hour'], how='left')"
   ]
  },
  {
   "cell_type": "markdown",
   "id": "2ef50a79",
   "metadata": {},
   "source": [
    "### 3.3 距离特征"
   ]
  },
  {
   "cell_type": "code",
   "execution_count": null,
   "id": "90556735",
   "metadata": {},
   "outputs": [],
   "source": [
    "# 计算经纬度之间的距离\n",
    "def haversine(lon1, lat1, lon2, lat2):\n",
    "    lon1, lat1, lon2, lat2 = map(np.radians, [lon1, lat1, lon2, lat2])\n",
    "    dlon = lon2 - lon1\n",
    "    dlat = lat2 - lat1\n",
    "    a = np.sin(dlat/2.0)**2 + np.cos(lat1) * np.cos(lat2) * np.sin(dlon/2.0)**2\n",
    "    c = 2 * np.arcsin(np.sqrt(a))\n",
    "    return round(c * 6371, 3) # 地球平均半径，6371km\n",
    "\n",
    "# 单位：km\n",
    "for i, d in enumerate(dfs):\n",
    "    dfs[i]['haversine'] = d.apply(lambda x: haversine(x['pickup_longitude'], x['pickup_latitude'], x['dropoff_longitude'], x['dropoff_latitude']), axis=1)"
   ]
  },
  {
   "cell_type": "markdown",
   "id": "6f356c79",
   "metadata": {},
   "source": [
    "### 3.4 区域特征\n",
    "- 对经纬度用kmeans聚类，创建区域特征分为15个类别：(感觉不太好)\n",
    "数据集太大，所以用MiniBatchKMeans代替，能够对小规模子集进行计算，减少计算时间。\n",
    "- 对经纬度用PCA，创建新特征"
   ]
  },
  {
   "cell_type": "code",
   "execution_count": null,
   "id": "ae1074d6",
   "metadata": {},
   "outputs": [
    {
     "name": "stdout",
     "output_type": "stream",
     "text": [
      "    pickup_cluster       0\n",
      "0                0  208937\n",
      "1                1   59294\n",
      "2                2  200531\n",
      "3                3   69858\n",
      "4                4   47196\n",
      "5                5  191314\n",
      "6                6  108658\n",
      "7                7  211098\n",
      "8                8  194814\n",
      "9                9  300500\n",
      "10              10  298185\n",
      "11              11   16299\n",
      "12              12   83754\n",
      "13              13    3592\n",
      "14              14   87642\n"
     ]
    }
   ],
   "source": [
    "\n",
    "# 先将所有需要转换的数据汇总，一起放入fit\n",
    "coords = np.vstack((dfs[0][['pickup_longitude', 'pickup_latitude']].values,\n",
    "                    dfs[0][['dropoff_longitude', 'dropoff_latitude']].values,\n",
    "                    dfs[1][['pickup_longitude', 'pickup_latitude']].values,\n",
    "                    dfs[1][['dropoff_longitude', 'dropoff_latitude']].values))\n",
    "# 随机采样\n",
    "sample_ids = np.random.permutation(len(coords))[:1000000]\n",
    "kmeans = MiniBatchKMeans(init='k-means++', n_clusters=15, batch_size=10000).fit(coords[sample_ids])\n",
    "\n",
    "# 聚类\n",
    "for i, d in enumerate(dfs):\n",
    "    dfs[i]['pickup_cluster'] = kmeans.predict(d[['pickup_longitude', 'pickup_latitude']])\n",
    "    dfs[i]['dropoff_cluster'] = kmeans.predict(d[['dropoff_longitude', 'dropoff_latitude']])\n",
    "\n",
    "print(pd.concat([dfs[0], dfs[1]]).groupby(['pickup_cluster']).size().reset_index())\n",
    "\n",
    "# PCA\n",
    "pca = PCA().fit(coords)\n",
    "for i, d in enumerate(dfs):\n",
    "    dfs[i]['pickup_pca0'] = pca.transform(d[['pickup_latitude', 'pickup_longitude']])[:, 0]\n",
    "    dfs[i]['pickup_pca1'] = pca.transform(d[['pickup_latitude', 'pickup_longitude']])[:, 1]\n",
    "    dfs[i]['dropoff_pca0'] = pca.transform(d[['dropoff_latitude', 'dropoff_longitude']])[:, 0]\n",
    "    dfs[i]['dropoff_pca1'] = pca.transform(d[['dropoff_latitude', 'dropoff_longitude']])[:, 1]"
   ]
  },
  {
   "cell_type": "markdown",
   "id": "cde25398",
   "metadata": {},
   "source": [
    "### 3.5 速度\n",
    "- 根据haversine距离与trip_duration计算车速：speed=haversine(km)×1000/trip_duration，单位m/s\n",
    "- 由于test无法计算haversine speed，所以根据haversine speed计算每个区域的平均速度"
   ]
  },
  {
   "cell_type": "code",
   "execution_count": null,
   "id": "95c2d1cf",
   "metadata": {},
   "outputs": [
    {
     "name": "stdout",
     "output_type": "stream",
     "text": [
      "None\n"
     ]
    }
   ],
   "source": [
    "# 计算haversine车速\n",
    "dfs[0]['speed'] = dfs[0]['haversine'] * 1000 / dfs[0]['trip_duration']\n",
    "pickup_speed = dfs[0][['speed', 'pickup_cluster']].groupby('pickup_cluster').mean().reset_index()\n",
    "pickup_speed.rename(columns={\n",
    "            'speed': 'avg_pickup_speed'}, inplace=True)\n",
    "dropoff_speed = dfs[0][['speed', 'dropoff_cluster']].groupby('dropoff_cluster').mean().reset_index()\n",
    "dropoff_speed.rename(columns={\n",
    "            'speed': 'avg_dropoff_speed'}, inplace=True)\n",
    "\n",
    "# 计算区域的平均速度\n",
    "# 并合并到train和test\n",
    "for i, d in enumerate(dfs):\n",
    "    dfs[i] = pd.merge(d, pickup_speed, on=['pickup_cluster'], how='left')\n",
    "for i, d in enumerate(dfs):\n",
    "    dfs[i] = pd.merge(d, dropoff_speed, on=['dropoff_cluster'], how='left')\n",
    "\n",
    "print(dfs[0].drop('speed', axis = 1, inplace=True))"
   ]
  },
  {
   "cell_type": "markdown",
   "id": "f46d7ae3",
   "metadata": {},
   "source": [
    "### 3.6 分类变量转换\n",
    "- store_and_fwd_flag、time_interval，进行dummy操作"
   ]
  },
  {
   "cell_type": "code",
   "execution_count": null,
   "id": "397f7d1c",
   "metadata": {},
   "outputs": [],
   "source": [
    "for i, d in enumerate(dfs):\n",
    "    store_and_fwd_flag_dummy = pd.get_dummies(d.store_and_fwd_flag, prefix='sff', prefix_sep='_')\n",
    "    time_interval_dummy = pd.get_dummies(d.time_interval, prefix='ti', prefix_sep='_')\n",
    "\n",
    "    dfs[i] = pd.concat([d, store_and_fwd_flag_dummy, time_interval_dummy], axis = 1)"
   ]
  },
  {
   "cell_type": "markdown",
   "id": "2429d255",
   "metadata": {},
   "source": [
    "## 四、探索性分析"
   ]
  },
  {
   "cell_type": "code",
   "execution_count": null,
   "id": "152968ad",
   "metadata": {},
   "outputs": [],
   "source": [
    "# TODO: 探索性分析"
   ]
  },
  {
   "cell_type": "markdown",
   "id": "1f41925b",
   "metadata": {},
   "source": [
    "## 五、建模"
   ]
  },
  {
   "cell_type": "markdown",
   "id": "c4249fd1",
   "metadata": {},
   "source": [
    "### 5.1 划分数据集"
   ]
  },
  {
   "cell_type": "code",
   "execution_count": null,
   "id": "c2929fdb",
   "metadata": {},
   "outputs": [
    {
     "ename": "KeyError",
     "evalue": "\"['avg_pickup_speed', 'avg_dropoff_speed'] not in index\"",
     "output_type": "error",
     "traceback": [
      "\u001b[31m---------------------------------------------------------------------------\u001b[39m",
      "\u001b[31mKeyError\u001b[39m                                  Traceback (most recent call last)",
      "\u001b[36mCell\u001b[39m\u001b[36m \u001b[39m\u001b[32mIn[74]\u001b[39m\u001b[32m, line 15\u001b[39m\n\u001b[32m     13\u001b[39m \u001b[38;5;66;03m# 划分数据集\u001b[39;00m\n\u001b[32m     14\u001b[39m RANDOM_SEED = \u001b[32m42\u001b[39m\n\u001b[32m---> \u001b[39m\u001b[32m15\u001b[39m X = \u001b[43mdfs\u001b[49m\u001b[43m[\u001b[49m\u001b[32;43m0\u001b[39;49m\u001b[43m]\u001b[49m\u001b[43m[\u001b[49m\u001b[43mfeatures\u001b[49m\u001b[43m]\u001b[49m\n\u001b[32m     16\u001b[39m y = dfs[\u001b[32m0\u001b[39m][\u001b[33m'\u001b[39m\u001b[33mlog_trip_duration\u001b[39m\u001b[33m'\u001b[39m]\n\u001b[32m     17\u001b[39m train_X, val_X, train_y, val_y = train_test_split(X, y, test_size=\u001b[32m0.2\u001b[39m, random_state=RANDOM_SEED)\n",
      "\u001b[36mFile \u001b[39m\u001b[32md:\\必须用电脑解决的作业\\地理大数据分析\\.venv\\Lib\\site-packages\\pandas\\core\\frame.py:4119\u001b[39m, in \u001b[36mDataFrame.__getitem__\u001b[39m\u001b[34m(self, key)\u001b[39m\n\u001b[32m   4117\u001b[39m     \u001b[38;5;28;01mif\u001b[39;00m is_iterator(key):\n\u001b[32m   4118\u001b[39m         key = \u001b[38;5;28mlist\u001b[39m(key)\n\u001b[32m-> \u001b[39m\u001b[32m4119\u001b[39m     indexer = \u001b[38;5;28;43mself\u001b[39;49m\u001b[43m.\u001b[49m\u001b[43mcolumns\u001b[49m\u001b[43m.\u001b[49m\u001b[43m_get_indexer_strict\u001b[49m\u001b[43m(\u001b[49m\u001b[43mkey\u001b[49m\u001b[43m,\u001b[49m\u001b[43m \u001b[49m\u001b[33;43m\"\u001b[39;49m\u001b[33;43mcolumns\u001b[39;49m\u001b[33;43m\"\u001b[39;49m\u001b[43m)\u001b[49m[\u001b[32m1\u001b[39m]\n\u001b[32m   4121\u001b[39m \u001b[38;5;66;03m# take() does not accept boolean indexers\u001b[39;00m\n\u001b[32m   4122\u001b[39m \u001b[38;5;28;01mif\u001b[39;00m \u001b[38;5;28mgetattr\u001b[39m(indexer, \u001b[33m\"\u001b[39m\u001b[33mdtype\u001b[39m\u001b[33m\"\u001b[39m, \u001b[38;5;28;01mNone\u001b[39;00m) == \u001b[38;5;28mbool\u001b[39m:\n",
      "\u001b[36mFile \u001b[39m\u001b[32md:\\必须用电脑解决的作业\\地理大数据分析\\.venv\\Lib\\site-packages\\pandas\\core\\indexes\\base.py:6212\u001b[39m, in \u001b[36mIndex._get_indexer_strict\u001b[39m\u001b[34m(self, key, axis_name)\u001b[39m\n\u001b[32m   6209\u001b[39m \u001b[38;5;28;01melse\u001b[39;00m:\n\u001b[32m   6210\u001b[39m     keyarr, indexer, new_indexer = \u001b[38;5;28mself\u001b[39m._reindex_non_unique(keyarr)\n\u001b[32m-> \u001b[39m\u001b[32m6212\u001b[39m \u001b[38;5;28;43mself\u001b[39;49m\u001b[43m.\u001b[49m\u001b[43m_raise_if_missing\u001b[49m\u001b[43m(\u001b[49m\u001b[43mkeyarr\u001b[49m\u001b[43m,\u001b[49m\u001b[43m \u001b[49m\u001b[43mindexer\u001b[49m\u001b[43m,\u001b[49m\u001b[43m \u001b[49m\u001b[43maxis_name\u001b[49m\u001b[43m)\u001b[49m\n\u001b[32m   6214\u001b[39m keyarr = \u001b[38;5;28mself\u001b[39m.take(indexer)\n\u001b[32m   6215\u001b[39m \u001b[38;5;28;01mif\u001b[39;00m \u001b[38;5;28misinstance\u001b[39m(key, Index):\n\u001b[32m   6216\u001b[39m     \u001b[38;5;66;03m# GH 42790 - Preserve name from an Index\u001b[39;00m\n",
      "\u001b[36mFile \u001b[39m\u001b[32md:\\必须用电脑解决的作业\\地理大数据分析\\.venv\\Lib\\site-packages\\pandas\\core\\indexes\\base.py:6264\u001b[39m, in \u001b[36mIndex._raise_if_missing\u001b[39m\u001b[34m(self, key, indexer, axis_name)\u001b[39m\n\u001b[32m   6261\u001b[39m     \u001b[38;5;28;01mraise\u001b[39;00m \u001b[38;5;167;01mKeyError\u001b[39;00m(\u001b[33mf\u001b[39m\u001b[33m\"\u001b[39m\u001b[33mNone of [\u001b[39m\u001b[38;5;132;01m{\u001b[39;00mkey\u001b[38;5;132;01m}\u001b[39;00m\u001b[33m] are in the [\u001b[39m\u001b[38;5;132;01m{\u001b[39;00maxis_name\u001b[38;5;132;01m}\u001b[39;00m\u001b[33m]\u001b[39m\u001b[33m\"\u001b[39m)\n\u001b[32m   6263\u001b[39m not_found = \u001b[38;5;28mlist\u001b[39m(ensure_index(key)[missing_mask.nonzero()[\u001b[32m0\u001b[39m]].unique())\n\u001b[32m-> \u001b[39m\u001b[32m6264\u001b[39m \u001b[38;5;28;01mraise\u001b[39;00m \u001b[38;5;167;01mKeyError\u001b[39;00m(\u001b[33mf\u001b[39m\u001b[33m\"\u001b[39m\u001b[38;5;132;01m{\u001b[39;00mnot_found\u001b[38;5;132;01m}\u001b[39;00m\u001b[33m not in index\u001b[39m\u001b[33m\"\u001b[39m)\n",
      "\u001b[31mKeyError\u001b[39m: \"['avg_pickup_speed', 'avg_dropoff_speed'] not in index\""
     ]
    }
   ],
   "source": [
    "# 5.1.1 指定特征\n",
    "features = ['vendor_id', 'passenger_count', 'pickup_longitude', \n",
    "            'pickup_latitude', 'dropoff_longitude', \n",
    "            'dropoff_latitude', 'month', 'day', 'hour', \n",
    "            'minute', 'dayofweek', 'time', 'is_weekend', \n",
    "            'is_rest', 'Temp.', 'Visibility', \n",
    "            'events_weather', 'Precip', 'haversine', \n",
    "            'pickup_cluster', 'dropoff_cluster', \n",
    "            'avg_pickup_speed', 'avg_dropoff_speed', 'sff_N', \n",
    "            'sff_Y', 'ti_day', 'ti_morning_peak', 'ti_night', 'ti_evening_peak', 'pickup_pca0', 'pickup_pca1',\n",
    "            'dropoff_pca0', 'dropoff_pca1']\n",
    "\n",
    "# 划分数据集\n",
    "RANDOM_SEED = 42\n",
    "X = dfs[0][features]\n",
    "y = dfs[0]['log_trip_duration']\n",
    "train_X, val_X, train_y, val_y = train_test_split(X, y, test_size=0.2, random_state=RANDOM_SEED)"
   ]
  },
  {
   "cell_type": "markdown",
   "id": "40519309",
   "metadata": {},
   "source": [
    "### 5.2 评价指标"
   ]
  },
  {
   "cell_type": "code",
   "execution_count": null,
   "id": "048ecedc",
   "metadata": {},
   "outputs": [],
   "source": [
    "def rmsle(y, y_pred):\n",
    "    assert len(y) == len(y_pred)\n",
    "    return np.sqrt(np.mean(np.power(np.log1p(y)-np.log1p(y_pred), 2)))"
   ]
  },
  {
   "cell_type": "markdown",
   "id": "20de8434",
   "metadata": {},
   "source": [
    "### 5.3LightGBM模型训练"
   ]
  },
  {
   "cell_type": "code",
   "execution_count": null,
   "id": "194976fe",
   "metadata": {},
   "outputs": [],
   "source": [
    "def objective(trial):\n",
    "    param = {\n",
    "            \n",
    "        'random_state': RANDOM_SEED,\n",
    "        'n_estimators': 1000,\n",
    "        'reg_alpha': trial.suggest_loguniform('reg_alpha', 1e-3, 10.0),\n",
    "        'reg_lambda': trial.suggest_loguniform('reg_lambda', 1e-3, 10.0),\n",
    "        'colsample_bytree': trial.suggest_categorical('colsample_bytree', [0.3,0.4,0.5,0.6,0.7,0.8,0.9, 1.0]),\n",
    "        'subsample': trial.suggest_categorical('subsample', [0.4,0.5,0.6,0.7,0.8,1.0]),\n",
    "        'learning_rate': trial.suggest_categorical('learning_rate', [0.006,0.008,0.01,0.014,0.017,0.02]),\n",
    "        'max_depth': trial.suggest_categorical('max_depth', [5, 7, 9, 11, 13, 15, 17, 20, 50]),\n",
    "        'num_leaves' : trial.suggest_int('num_leaves', 1, 1000),\n",
    "        'min_child_samples': trial.suggest_int('min_child_samples', 1, 300),\n",
    "        'cat_smooth' : trial.suggest_int('cat_smooth', 1, 100)      \n",
    "    }\n",
    "    \n",
    "    lgb = LGBMRegressor(**param)\n",
    "    lgb.fit(train_X, train_y, eval_set=[(val_X, val_y)], early_stopping_rounds=20, verbose=False)\n",
    "    pred_lgb = lgb.predict(val_X)\n",
    "    return rmsle(val_y, pred_lgb)\n",
    "\n",
    "study = optuna.create_study(direction='minimize')\n",
    "study.optimize(objective, n_trials=20)\n",
    "print('Best trial:', study.best_trial.params)\n",
    "print(\"------------------------------------------------\")\n",
    "print(study.trials_dataframe())\n",
    "\n",
    "plt.figure(figsize=(10,8))\n",
    "LGBMRegressor.plot_importance(lgb, max_num_features=20, height=0.8)"
   ]
  }
 ],
 "metadata": {
  "kernelspec": {
   "display_name": "geospatial-analysis",
   "language": "python",
   "name": "python3"
  },
  "language_info": {
   "codemirror_mode": {
    "name": "ipython",
    "version": 3
   },
   "file_extension": ".py",
   "mimetype": "text/x-python",
   "name": "python",
   "nbconvert_exporter": "python",
   "pygments_lexer": "ipython3",
   "version": "3.11.13"
  }
 },
 "nbformat": 4,
 "nbformat_minor": 5
}
